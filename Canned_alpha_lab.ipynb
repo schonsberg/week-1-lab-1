{
 "cells": [
  {
   "cell_type": "markdown",
   "metadata": {},
   "source": [
    "Sam Schonsberg\n",
    "1/16/2018\n",
    "Python Quiz Prep"
   ]
  },
  {
   "cell_type": "code",
   "execution_count": 1,
   "metadata": {},
   "outputs": [],
   "source": [
    "import numpy as np"
   ]
  },
  {
   "cell_type": "markdown",
   "metadata": {},
   "source": [
    "First, define functions for $\\alpha$, rule 3, and rule 4."
   ]
  },
  {
   "cell_type": "code",
   "execution_count": 3,
   "metadata": {},
   "outputs": [],
   "source": [
    "def alpha(L,dL,T_i,T_f):   #equation for coefficient of linear expansion\n",
    "    dT = T_f - T_i\n",
    "    a = dL / (L*dT)\n",
    "    return a\n",
    "\n",
    "def R3(delta_A,delta_B):  #applies to two variables being added/subtracted -- see page 8 of data treatment\n",
    "    delta = np.sqrt(delta_A**2 + delta_B**2)\n",
    "    return delta\n",
    "\n",
    "def R4(Q, c, A,delta_A,exp_A, B,delta_B,exp_B, C,delta_C,exp_C):   #applies to three variable equations\n",
    "    delta = np.abs(Q) * np.sqrt( (exp_A * (delta_A/A))**2 + (exp_B * (delta_B/B))**2 + (exp_C * (delta_C/C))**2)\n",
    "    return delta"
   ]
  },
  {
   "cell_type": "markdown",
   "metadata": {},
   "source": [
    "Now, define the variables we have."
   ]
  },
  {
   "cell_type": "code",
   "execution_count": 4,
   "metadata": {},
   "outputs": [],
   "source": [
    "L = 1.05 #m  length\n",
    "unc_L = .001 #m   uncertainty in length\n",
    "\n",
    "dL = 1.25 #m   change in length\n",
    "unc_dL = 0.00001 #m   uncertainty in change in length\n",
    "\n",
    "T_i = 23.4 #deg C\n",
    "unc_T_i = 0.3 #deg C\n",
    "\n",
    "T_f = 92.5 #deg C\n",
    "unc_T_f = 0.1 #deg C"
   ]
  },
  {
   "cell_type": "markdown",
   "metadata": {},
   "source": [
    "Finally, we plug these into our defined functions!"
   ]
  },
  {
   "cell_type": "code",
   "execution_count": 9,
   "metadata": {},
   "outputs": [
    {
     "name": "stdout",
     "output_type": "stream",
     "text": [
      "The coefficient of linear expansion is 0.01723 +/- 8e-05 1/*C\n"
     ]
    }
   ],
   "source": [
    "a = alpha(L,dL,T_i,T_f)\n",
    "\n",
    "unc_dT = R3(unc_T_i,unc_T_f)\n",
    "\n",
    "dT = T_f - T_i\n",
    "unc_a = R4(a, 1, dL,1,unc_dL, L,unc_L,-1, dT,unc_dT,-1)\n",
    "\n",
    "print 'The coefficient of linear expansion is '+str(round(a,5))+' +/- '+str(round(unc_a,5))+' 1/*C'"
   ]
  },
  {
   "cell_type": "markdown",
   "metadata": {},
   "source": [
    "Nicely written with LaTe$\\chi$:\n",
    "$\\alpha$ = 0.01723 $\\pm$ 0.00008 ${C^\\circ}^{-1}$"
   ]
  },
  {
   "cell_type": "code",
   "execution_count": null,
   "metadata": {},
   "outputs": [],
   "source": []
  }
 ],
 "metadata": {
  "kernelspec": {
   "display_name": "Python 2",
   "language": "python",
   "name": "python2"
  },
  "language_info": {
   "codemirror_mode": {
    "name": "ipython",
    "version": 2
   },
   "file_extension": ".py",
   "mimetype": "text/x-python",
   "name": "python",
   "nbconvert_exporter": "python",
   "pygments_lexer": "ipython2",
   "version": "2.7.15"
  }
 },
 "nbformat": 4,
 "nbformat_minor": 2
}
